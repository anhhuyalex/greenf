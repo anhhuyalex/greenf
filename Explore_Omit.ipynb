{
 "cells": [
  {
   "cell_type": "code",
   "execution_count": 1,
   "metadata": {
    "colab": {
     "autoexec": {
      "startup": false,
      "wait_interval": 0
     }
    },
    "colab_type": "code",
    "collapsed": true,
    "id": "IShDSvTm_YC-"
   },
   "outputs": [],
   "source": [
    "import numpy as np\n",
    "import time\n",
    "import matplotlib.pyplot as plt\n",
    "import time\n",
    "\n",
    "mapping, inv_mapping = [], []\n",
    "\n",
    "def num_entries(k, N):\n",
    "    if 0 <= k <= N - 1:\n",
    "        return int(1./2 * (k+1) * (k+2))\n",
    "    elif N <= k <= 2*N - 3:\n",
    "        return int(1./2 * (-2*k**2 + 6*k*N - 6*k - 3*N**2 +9*N - 4))\n",
    "    elif 2*N - 2 <= k <= 3*N - 3:\n",
    "        return int(1./2 * (3*N - 2 - k) * (3*N - 1 - k))\n",
    "    else:\n",
    "        return 0\n",
    "\n",
    "\n",
    "def generate_triples(N, total):\n",
    "    # List containing generated triples\n",
    "    gen = []\n",
    "\n",
    "    \n",
    "    if 0 <= total <= N - 1:\n",
    "        # Generate first element\n",
    "        i, j, k = (0, 0, total)\n",
    "        while i <= total:\n",
    "            # print (\"now i is\", i)\n",
    "            while j <= total - i:\n",
    "                gen.append ((i, j, k))\n",
    "                j += 1\n",
    "                k -= 1\n",
    "            i += 1\n",
    "            j = 0\n",
    "            k = total - i\n",
    "            \n",
    "                # pass\n",
    "\n",
    "    elif N <= total <= 2*N - 3:\n",
    "        # Generate first element\n",
    "        i, j, k = (0, total-N+1, N-1)\n",
    "        while i <= N-1:\n",
    "            while j <= min(N-1, total - i):\n",
    "                gen.append ((i, j, k))\n",
    "                j += 1\n",
    "                k -= 1\n",
    "            i += 1\n",
    "            k = min(N-1, total - i)\n",
    "            j = total - i - k\n",
    "\n",
    "\n",
    "            \n",
    "    elif 2*N - 2 <= total <= 3*N - 3:\n",
    "        # Generate first element\n",
    "        i, j, k = (total - 2*N + 2, N-1, N-1)\n",
    "        while i <= N-1:\n",
    "            while j <= min(N-1, total - i):\n",
    "                gen.append ((i, j, k))\n",
    "                j += 1\n",
    "                k -= 1\n",
    "            i += 1\n",
    "            k = min(N-1, total - i)\n",
    "            j = total - i - k\n",
    "        \n",
    "    else:\n",
    "        raise ValueError(\"Not applicable k\")\n",
    "\n",
    "    return gen\n",
    "\n",
    "def index_triple_maps(N):\n",
    "    mapping = {}\n",
    "    inv_mapping = {}\n",
    "    for k in range(3*N - 2):\n",
    "        triples = generate_triples(N, k)\n",
    "        mapping[k] = {i: triples[i] for i in range(len(triples))}\n",
    "        inv_mapping[k] = {triples[i]: i for i in range(len(triples))}\n",
    "    return mapping, inv_mapping\n",
    "\n",
    "def omit_sites(inv_mapping, omit):    \n",
    "    site = 0\n",
    "    new_inv_map = {}\n",
    "    new_map = {}\n",
    "    \n",
    "    for sum_ in inv_mapping.keys():\n",
    "        inv_sum_k_sites = {}\n",
    "        sum_k_sites = {}\n",
    "        site_index = 0\n",
    "        for triple in inv_mapping[sum_].keys():\n",
    "            if omit[site] == 1:\n",
    "                inv_sum_k_sites[triple] = site_index\n",
    "                sum_k_sites[site_index] = triple\n",
    "                site_index += 1\n",
    "            else:\n",
    "                x, y, z = triple\n",
    "#                 print (\"I'm omitting\", triple)\n",
    "            site += 1\n",
    "        new_inv_map[sum_] = inv_sum_k_sites\n",
    "        new_map[sum_] = sum_k_sites\n",
    "\n",
    "    return new_map, new_inv_map, x, y, z\n",
    "\n",
    "\n",
    "\n",
    "\n",
    "def _calculate(z_n, x_t, y_t, z_t, x_, y_, z_, x_o, y_o, z_o, t_n = 1.0, e_n = 1.0, N = 20, k = 1, c = complex,\n",
    "                           mapping = mapping, inv_mapping = inv_mapping):\n",
    "\n",
    "    \n",
    "\n",
    "    amplitude = t_n / (z_n - e_n)\n",
    "    # amplitude = 1\n",
    "    a = {}\n",
    "    b = {}\n",
    "\n",
    "\n",
    "    for k in range(3*N-2):\n",
    "        alpha_num_entries = len(inv_mapping[k-1]) if k > 0 else 0\n",
    "        my_entries = len(inv_mapping[k])\n",
    "        beta_num_entries = len(inv_mapping[k+1]) if k < 3*N - 3 else 0\n",
    "        a_k = np.zeros((my_entries, alpha_num_entries), dtype=c)\n",
    "        b_k = np.zeros((my_entries, beta_num_entries), dtype=c)\n",
    "        for index, triple in mapping[k].items():\n",
    "            x, y, z = triple\n",
    "\n",
    "            # Calculate b_k\n",
    "            if k < 3*N - 3:\n",
    "                if x < N - 1:\n",
    "                    try:\n",
    "                        b_k[index, inv_mapping[k + 1][x + 1, y, z]] = amplitude\n",
    "                    except:\n",
    "                        pass\n",
    "                    \n",
    "                if y < N - 1:\n",
    "                    try:\n",
    "                        b_k[index, inv_mapping[k + 1][x, y + 1, z]] = amplitude\n",
    "                    except:\n",
    "                        pass\n",
    "\n",
    "                if z < N - 1:\n",
    "                    try:\n",
    "                        b_k[index, inv_mapping[k + 1][x, y, z + 1]] = amplitude\n",
    "                    except:\n",
    "                        pass\n",
    "#             # Calculate a_k\n",
    "            if 0 < k:\n",
    "                if x > 0:\n",
    "                    try:\n",
    "                        a_k[index, inv_mapping[k - 1][x - 1, y, z]] = amplitude\n",
    "                    except:\n",
    "                        pass\n",
    "\n",
    "                if y > 0:\n",
    "                    try:\n",
    "                        a_k[index, inv_mapping[k - 1][x, y - 1, z]] = amplitude\n",
    "                    except:\n",
    "                        pass\n",
    "\n",
    "                if z > 0:\n",
    "                    try:\n",
    "                        a_k[index, inv_mapping[k - 1][x, y, z - 1]] = amplitude\n",
    "                    except:\n",
    "                        pass\n",
    "\n",
    "        a[k] = a_k\n",
    "        b[k] = b_k\n",
    "\n",
    "    # Calculate C\n",
    "    sum_ = sum([x_, y_, z_])\n",
    "    \n",
    "    C = np.zeros(shape = (len(inv_mapping[sum_]), 1), dtype = complex)\n",
    "    C[inv_mapping[sum_][(x_, y_, z_)]] = 1. / (z_n - e_n)\n",
    "    \n",
    "        \n",
    "\n",
    "\n",
    "\n",
    "    # Calculate Multiplicative Factors \n",
    "    A = {}\n",
    "    G = {}\n",
    "    A[1] = b[1]\n",
    "    \n",
    "    for k in range(2, sum_):\n",
    "        A[k] = np.linalg.solve(np.eye(len(inv_mapping[k])) - a[k].dot(A[k - 1]), b[k])\n",
    "\n",
    "\n",
    "    A[3*N - 4] = a[3*N - 4]\n",
    "    for k in range(3*N - 5, sum_, -1):\n",
    "        A[k] = np.linalg.solve(np.eye(len(inv_mapping[k])) - b[k].dot(A[k + 1]), a[k])\n",
    "\n",
    "    \n",
    "    # Calculate Green's Functions\n",
    "    V = {}\n",
    "    k = sum_\n",
    "    try:\n",
    "        if 1 < k < 3*N-4:\n",
    "            V[k] = np.linalg.solve(np.eye(len(inv_mapping[k])) - a[k].dot(A[k - 1]) - b[k].dot(A[k + 1]), \n",
    "                               C)\n",
    "        elif k == 1:\n",
    "            V[k] = np.linalg.solve(np.eye(len(inv_mapping[k])) - b[k].dot(A[k + 1]), \n",
    "                               C)\n",
    "        elif k == 3*N - 4:\n",
    "            V[k] = np.linalg.solve(np.eye(len(inv_mapping[k])) - a[k].dot(A[k - 1]), \n",
    "                               C)\n",
    "            \n",
    "    except:\n",
    "        print (\"x_t, y_t, z_t, x_, y_, z_:\", x_t, y_t, z_t, x_, y_, z_)\n",
    "        print (\"I'm omitting:\", x_o, y_o, z_o)\n",
    "        print (len(inv_mapping[k]))\n",
    "        print (a[k].shape,a[k])\n",
    "        print (A[k-1].shape, A[k-1])\n",
    "        print (b[k].shape,b[k])\n",
    "        print (A[k+1].shape, A[k+1])\n",
    "        print (C.shape, C)\n",
    "        print (inv_mapping[sum_])\n",
    "        raise ValueError\n",
    "    if x_t + y_t + z_t > sum_:\n",
    "        for k in range(sum_ + 1, x_t + y_t + z_t + 1):\n",
    "            V[k] = A[k].dot(V[k - 1])\n",
    "    elif x_t + y_t + z_t < sum_:\n",
    "        for k in range(sum_ - 1, x_t + y_t + z_t - 1, -1):\n",
    "            V[k] = A[k].dot(V[k + 1])\n",
    "\n",
    "    return V[x_t + y_t + z_t]"
   ]
  },
  {
   "cell_type": "code",
   "execution_count": 0,
   "metadata": {
    "colab": {
     "autoexec": {
      "startup": false,
      "wait_interval": 0
     }
    },
    "colab_type": "code",
    "collapsed": true,
    "id": "EtmCWh-i_YDD"
   },
   "outputs": [],
   "source": [
    "N=20\n",
    "mapping, inv_mapping = index_triple_maps(N)\n",
    "X = []\n",
    "Y = []\n",
    "x_t, y_t, z_t, x_, y_, z_ = np.random.randint(20, size=6)\n",
    "energy = np.random.uniform(-1, 1) \n",
    "pred = []\n",
    "true = []\n",
    "# for _ in np.random.choice(range(1, N**3), replace=False, size=1000):\n",
    "for _ in range(1, N**3):\n",
    "    if x_ + y_ + z_ == 3*N - 3:\n",
    "        continue\n",
    "    \n",
    "    omit = np.full(N**3, 1)\n",
    "    omit[_] = 0\n",
    "    _mapping, _inv_mapping, x_o, y_o, z_o = omit_sites(inv_mapping, omit)\n",
    "    if (x_ == x_o) & (y_ == y_o) & (z_ == z_o):\n",
    "        continue\n",
    "    elif (x_t == x_o) & (y_t == y_o) & (z_t == z_o):\n",
    "        continue\n",
    "    if _ % 100 == 0:\n",
    "        print (x_t, y_t, z_t, x_, y_, z_, x_o, y_o, z_o, energy)\n",
    "    true_value = (_calculate(energy+0.1j, x_t, y_t, z_t, x_, y_, z_, x_o, y_o, z_o, mapping = mapping, inv_mapping = inv_mapping))\n",
    "    if x_o + y_o + z_o == x_t + y_t + z_t:\n",
    "        true_value = np.delete(true_value, inv_mapping[x_o + y_o + z_o][(x_o, y_o, z_o)])\n",
    "        true_value = true_value[:,np.newaxis]\n",
    "\n",
    "    predicted_value = (_calculate(energy+0.1j, x_t, y_t, z_t, x_, y_, z_, x_o, y_o, z_o, mapping = _mapping, inv_mapping = _inv_mapping))\n",
    "    \n",
    "        \n",
    "#     error = np.absolute((predicted_value - true_value) / true_value * 100)[_inv_mapping[x_t+ y_t+ z_t][(x_t, y_t, z_t)]]\n",
    "#     for index, triple in enumerate(_inv_mapping[x_t + y_t + z_t].keys()):\n",
    "#         (x, y, z) = triple\n",
    "#         x, y, z, x__, y__, z__, x_o_, y_o_, z_o_ = (np.array([x, y, z, x_, y_, z_, x_o, y_o, z_o], dtype=float) / 10.0) - 1\n",
    "#         X.append([x, y, z, x__, y__, z__, x_o_, y_o_, z_o_, energy])\n",
    "    X.append(_)\n",
    "    pred.append(predicted_value[_inv_mapping[x_t+ y_t+ z_t][(x_t, y_t, z_t)]])\n",
    "    true.append(true_value[_inv_mapping[x_t+ y_t+ z_t][(x_t, y_t, z_t)]])\n",
    "    \n",
    "\n",
    "X = np.array(X)\n",
    "print (\"Error shapes\", [ (i).shape for i in Y])\n",
    "Y_ = np.concatenate(Y)\n",
    "# Y_ = (Y_ - np.mean(Y_))/np.std(Y_)\n",
    "Y_.shape"
   ]
  },
  {
   "cell_type": "code",
   "execution_count": 0,
   "metadata": {
    "colab": {
     "autoexec": {
      "startup": false,
      "wait_interval": 0
     }
    },
    "colab_type": "code",
    "collapsed": true,
    "id": "aBl3GHP7_YDF"
   },
   "outputs": [],
   "source": [
    "pred = np.array(pred )\n",
    "true = np.array(true)"
   ]
  },
  {
   "cell_type": "code",
   "execution_count": 0,
   "metadata": {
    "colab": {
     "autoexec": {
      "startup": false,
      "wait_interval": 0
     }
    },
    "colab_type": "code",
    "collapsed": true,
    "id": "K58O-MwN_YDI"
   },
   "outputs": [],
   "source": [
    "import matplotlib.pyplot as plt\n",
    "%matplotlib inline\n",
    "plt.hist((pred-true)/true * 100, 500)"
   ]
  },
  {
   "cell_type": "code",
   "execution_count": 0,
   "metadata": {
    "colab": {
     "autoexec": {
      "startup": false,
      "wait_interval": 0
     }
    },
    "colab_type": "code",
    "collapsed": true,
    "id": "dN9Y9eLB_YDK"
   },
   "outputs": [],
   "source": [
    "cum_ = np.array(np.absolute((pred-true)/true) * 100, dtype = float)\n",
    "plt.figure(figsize=(15,10))\n",
    "counts, bin_edges, p = plt.hist(cum_, 500)\n",
    "plt.title(\"Distribution of relative errors for <18,19,11|G|0,3,16> at z=-0.57\")\n",
    "plt.show()"
   ]
  },
  {
   "cell_type": "code",
   "execution_count": 0,
   "metadata": {
    "colab": {
     "autoexec": {
      "startup": false,
      "wait_interval": 0
     }
    },
    "colab_type": "code",
    "collapsed": true,
    "id": "zNEjxUem_YDM"
   },
   "outputs": [],
   "source": [
    "np.sum(np.sort(cum_, axis=0)[:150])"
   ]
  },
  {
   "cell_type": "code",
   "execution_count": 0,
   "metadata": {
    "colab": {
     "autoexec": {
      "startup": false,
      "wait_interval": 0
     }
    },
    "colab_type": "code",
    "collapsed": true,
    "id": "rUM068ma_YDR"
   },
   "outputs": [],
   "source": [
    "print (counts)\n",
    "print (bin_edges)"
   ]
  },
  {
   "cell_type": "code",
   "execution_count": 0,
   "metadata": {
    "colab": {
     "autoexec": {
      "startup": false,
      "wait_interval": 0
     }
    },
    "colab_type": "code",
    "collapsed": true,
    "id": "cruICiTW_YDU"
   },
   "outputs": [],
   "source": [
    "import numpy as np\n",
    "X = np.load(\"/Users/alng/Google Drive/Year 3: Focus/Summer Internships/Documents/pred.npy\")\n",
    "true_Y = np.load(\"/Users/alng/Google Drive/Year 3: Focus/Summer Internships/Documents/true_Y.npy\")\n",
    "pred_Y = np.load(\"/Users/alng/Google Drive/Year 3: Focus/Summer Internships/Documents/pred_Y.npy\")\n",
    "# Y_ = np.load(\"new/Year 3: Focus/Summer Internships/Documents/target.npy\")\n",
    "Y = np.absolute(true_Y - pred_Y) / np.absolute(true_Y) \n",
    "Y = np.array([Y < 1],dtype = int)[0]"
   ]
  },
  {
   "cell_type": "code",
   "execution_count": 0,
   "metadata": {
    "colab": {
     "autoexec": {
      "startup": false,
      "wait_interval": 0
     }
    },
    "colab_type": "code",
    "collapsed": true,
    "id": "ExaqzxXF_YDX"
   },
   "outputs": [],
   "source": [
    "pred_Y.shape"
   ]
  },
  {
   "cell_type": "code",
   "execution_count": 0,
   "metadata": {
    "colab": {
     "autoexec": {
      "startup": false,
      "wait_interval": 0
     }
    },
    "colab_type": "code",
    "collapsed": true,
    "id": "7bHYJgpQ_YDb"
   },
   "outputs": [],
   "source": [
    "import matplotlib.pyplot as plt\n",
    "%matplotlib inline\n",
    "plt.hist(Y)"
   ]
  },
  {
   "cell_type": "code",
   "execution_count": 0,
   "metadata": {
    "colab": {
     "autoexec": {
      "startup": false,
      "wait_interval": 0
     }
    },
    "colab_type": "code",
    "collapsed": true,
    "id": "Vdi6QqSu_YDh"
   },
   "outputs": [],
   "source": [
    "target = np.absolute(true_Y - pred_Y) / np.absolute(true_Y) \n",
    "plt.hist(target[target < 40] * 100, 100)"
   ]
  },
  {
   "cell_type": "code",
   "execution_count": 0,
   "metadata": {
    "colab": {
     "autoexec": {
      "startup": false,
      "wait_interval": 0
     }
    },
    "colab_type": "code",
    "collapsed": true,
    "id": "CiCpErEE_YDk"
   },
   "outputs": [],
   "source": [
    "ordered_X = np.load(\"/Users/alng/Google Drive/Year 3: Focus/Summer Internships/Documents/pred.npy\")\n"
   ]
  },
  {
   "cell_type": "code",
   "execution_count": 0,
   "metadata": {
    "colab": {
     "autoexec": {
      "startup": false,
      "wait_interval": 0
     }
    },
    "colab_type": "code",
    "collapsed": true,
    "id": "TTVSlEXx_YD0"
   },
   "outputs": [],
   "source": [
    "((ordered_X  + 1) * 10)[7000:7090,:9]"
   ]
  },
  {
   "cell_type": "code",
   "execution_count": 0,
   "metadata": {
    "colab": {
     "autoexec": {
      "startup": false,
      "wait_interval": 0
     }
    },
    "colab_type": "code",
    "collapsed": true,
    "id": "Of6NEJz-_YD3"
   },
   "outputs": [],
   "source": [
    "perm = np.arange(X.shape[0])\n",
    "np.random.shuffle(perm)\n",
    "np.save(\"X_perm\", X[perm])\n",
    "np.save(\"true_Y_perm\", true_Y[perm])\n",
    "np.save(\"pred_Y_perm\", pred_Y[perm])\n"
   ]
  },
  {
   "cell_type": "code",
   "execution_count": 0,
   "metadata": {
    "colab": {
     "autoexec": {
      "startup": false,
      "wait_interval": 0
     }
    },
    "colab_type": "code",
    "collapsed": true,
    "id": "gs6gWSzw_YD7"
   },
   "outputs": [],
   "source": [
    "Y_ = (Y - np.mean(Y))/np.std(Y)\n",
    "X_ = X[np.where(Y_ < 5)[0]]\n",
    "Y_ = Y_[Y_ < 5]\n",
    "import matplotlib.pyplot as plt\n",
    "%matplotlib inline\n",
    "plt.hist(Y_, 100)"
   ]
  },
  {
   "cell_type": "code",
   "execution_count": 0,
   "metadata": {
    "colab": {
     "autoexec": {
      "startup": false,
      "wait_interval": 0
     }
    },
    "colab_type": "code",
    "collapsed": true,
    "id": "VdWZlDSW_YD-"
   },
   "outputs": [],
   "source": [
    "X_"
   ]
  },
  {
   "cell_type": "code",
   "execution_count": 0,
   "metadata": {
    "colab": {
     "autoexec": {
      "startup": false,
      "wait_interval": 0
     }
    },
    "colab_type": "code",
    "collapsed": true,
    "id": "psfZYi4l_YEA"
   },
   "outputs": [],
   "source": [
    "Y_[Y_ < -0.1].shape"
   ]
  },
  {
   "cell_type": "code",
   "execution_count": 0,
   "metadata": {
    "colab": {
     "autoexec": {
      "startup": false,
      "wait_interval": 0
     }
    },
    "colab_type": "code",
    "collapsed": true,
    "id": "yRVJhyRd_YEC"
   },
   "outputs": [],
   "source": [
    "Y.mean()"
   ]
  },
  {
   "cell_type": "code",
   "execution_count": 1,
   "metadata": {
    "colab": {
     "autoexec": {
      "startup": false,
      "wait_interval": 0
     },
     "base_uri": "https://localhost:8080/",
     "height": 351
    },
    "colab_type": "code",
    "collapsed": false,
    "executionInfo": {
     "elapsed": 608,
     "status": "error",
     "timestamp": 1533152219092,
     "user": {
      "displayName": "Huy Nguyen",
      "photoUrl": "https://lh3.googleusercontent.com/a/default-user=s128",
      "userId": "106975931550378015151"
     },
     "user_tz": 420
    },
    "id": "ye3dhL5Y_YEF",
    "outputId": "fb1e4fce-cdf8-4dc7-fef0-d2823200abfa"
   },
   "outputs": [
    {
     "ename": "FileNotFoundError",
     "evalue": "ignored",
     "output_type": "error",
     "traceback": [
      "\u001b[0;31m---------------------------------------------------------------------------\u001b[0m",
      "\u001b[0;31mFileNotFoundError\u001b[0m                         Traceback (most recent call last)",
      "\u001b[0;32m<ipython-input-1-866772f45644>\u001b[0m in \u001b[0;36m<module>\u001b[0;34m()\u001b[0m\n\u001b[1;32m      1\u001b[0m \u001b[0;32mimport\u001b[0m \u001b[0mnumpy\u001b[0m \u001b[0;32mas\u001b[0m \u001b[0mnp\u001b[0m\u001b[0;34m\u001b[0m\u001b[0m\n\u001b[0;32m----> 2\u001b[0;31m \u001b[0mX\u001b[0m \u001b[0;34m=\u001b[0m \u001b[0mnp\u001b[0m\u001b[0;34m.\u001b[0m\u001b[0mload\u001b[0m\u001b[0;34m(\u001b[0m\u001b[0;34m\"X_perm.npy\"\u001b[0m\u001b[0;34m)\u001b[0m\u001b[0;34m\u001b[0m\u001b[0m\n\u001b[0m\u001b[1;32m      3\u001b[0m \u001b[0mtrue_Y\u001b[0m \u001b[0;34m=\u001b[0m \u001b[0mnp\u001b[0m\u001b[0;34m.\u001b[0m\u001b[0mload\u001b[0m\u001b[0;34m(\u001b[0m\u001b[0;34m\"true_Y_perm.npy\"\u001b[0m\u001b[0;34m)\u001b[0m\u001b[0;34m\u001b[0m\u001b[0m\n\u001b[1;32m      4\u001b[0m \u001b[0mpred_Y\u001b[0m \u001b[0;34m=\u001b[0m \u001b[0mnp\u001b[0m\u001b[0;34m.\u001b[0m\u001b[0mload\u001b[0m\u001b[0;34m(\u001b[0m\u001b[0;34m\"pred_Y_perm.npy\"\u001b[0m\u001b[0;34m)\u001b[0m\u001b[0;34m\u001b[0m\u001b[0m\n\u001b[1;32m      5\u001b[0m \u001b[0mtarget\u001b[0m \u001b[0;34m=\u001b[0m \u001b[0mnp\u001b[0m\u001b[0;34m.\u001b[0m\u001b[0mabsolute\u001b[0m\u001b[0;34m(\u001b[0m\u001b[0mtrue_Y\u001b[0m \u001b[0;34m-\u001b[0m \u001b[0mpred_Y\u001b[0m\u001b[0;34m)\u001b[0m \u001b[0;34m/\u001b[0m \u001b[0mnp\u001b[0m\u001b[0;34m.\u001b[0m\u001b[0mabsolute\u001b[0m\u001b[0;34m(\u001b[0m\u001b[0mtrue_Y\u001b[0m\u001b[0;34m)\u001b[0m\u001b[0;34m\u001b[0m\u001b[0m\n",
      "\u001b[0;32m/usr/local/lib/python3.6/dist-packages/numpy/lib/npyio.py\u001b[0m in \u001b[0;36mload\u001b[0;34m(file, mmap_mode, allow_pickle, fix_imports, encoding)\u001b[0m\n\u001b[1;32m    370\u001b[0m     \u001b[0mown_fid\u001b[0m \u001b[0;34m=\u001b[0m \u001b[0;32mFalse\u001b[0m\u001b[0;34m\u001b[0m\u001b[0m\n\u001b[1;32m    371\u001b[0m     \u001b[0;32mif\u001b[0m \u001b[0misinstance\u001b[0m\u001b[0;34m(\u001b[0m\u001b[0mfile\u001b[0m\u001b[0;34m,\u001b[0m \u001b[0mbasestring\u001b[0m\u001b[0;34m)\u001b[0m\u001b[0;34m:\u001b[0m\u001b[0;34m\u001b[0m\u001b[0m\n\u001b[0;32m--> 372\u001b[0;31m         \u001b[0mfid\u001b[0m \u001b[0;34m=\u001b[0m \u001b[0mopen\u001b[0m\u001b[0;34m(\u001b[0m\u001b[0mfile\u001b[0m\u001b[0;34m,\u001b[0m \u001b[0;34m\"rb\"\u001b[0m\u001b[0;34m)\u001b[0m\u001b[0;34m\u001b[0m\u001b[0m\n\u001b[0m\u001b[1;32m    373\u001b[0m         \u001b[0mown_fid\u001b[0m \u001b[0;34m=\u001b[0m \u001b[0;32mTrue\u001b[0m\u001b[0;34m\u001b[0m\u001b[0m\n\u001b[1;32m    374\u001b[0m     \u001b[0;32melif\u001b[0m \u001b[0mis_pathlib_path\u001b[0m\u001b[0;34m(\u001b[0m\u001b[0mfile\u001b[0m\u001b[0;34m)\u001b[0m\u001b[0;34m:\u001b[0m\u001b[0;34m\u001b[0m\u001b[0m\n",
      "\u001b[0;31mFileNotFoundError\u001b[0m: [Errno 2] No such file or directory: 'X_perm.npy'"
     ]
    }
   ],
   "source": [
    "import numpy as np\n",
    "X = np.load(\"X_perm.npy\")\n",
    "true_Y = np.load(\"true_Y_perm.npy\")\n",
    "pred_Y = np.load(\"pred_Y_perm.npy\")\n",
    "target = np.absolute(true_Y - pred_Y) / np.absolute(true_Y) \n",
    "print (target.shape)\n",
    "Y = np.array([target < 1],dtype = int)[0]"
   ]
  },
  {
   "cell_type": "code",
   "execution_count": 0,
   "metadata": {
    "colab": {
     "autoexec": {
      "startup": false,
      "wait_interval": 0
     }
    },
    "colab_type": "code",
    "collapsed": false,
    "id": "EMaFg9PV_YEK",
    "outputId": "0576a407-c8cd-4184-b0a2-c2a0ba94738a"
   },
   "outputs": [
    {
     "data": {
      "text/plain": [
       "(array([  51847.,   24153.,   26745.,   32795.,   40179.,   47597.,\n",
       "          56931.,   65910.,   75493.,   86484.,   97420.,  110145.,\n",
       "         123268.,  138004.,  154468.,  171919.,  192327.,  214692.,\n",
       "         236840.,  258823.,  264852.,  253592.,  238552.,  225244.,\n",
       "         211449.,  198831.,  186713.,  175037.,  164672.,  156265.,\n",
       "         146553.,  138811.,  130130.,  122711.,  116200.,  110141.,\n",
       "         103236.,   98351.,   93241.,   87744.,   83779.,   78889.,\n",
       "          75479.,   71532.,   68119.,   64796.,   61902.,   59517.,\n",
       "          56474.,   53487.,   51543.,   49242.,   46903.,   45228.,\n",
       "          43147.,   41606.,   39823.,   38050.,   36624.,   35098.,\n",
       "          33641.,   32541.,   31604.,   30379.,   29515.,   28015.,\n",
       "          27256.,   26256.,   25509.,   24427.,   23773.,   22895.,\n",
       "          22235.,   21481.,   20652.,   20070.,   19657.,   18900.,\n",
       "          18433.,   17821.,   17584.,   16918.,   16485.,   15859.,\n",
       "          15561.,   15104.,   14684.,   14075.,   13757.,   13721.,\n",
       "          12991.,   12764.,   12512.,   12217.,   11858.,   11555.,\n",
       "          11293.,   11103.,   10754.,   10329.]),\n",
       " array([  3.59619666e-16,   4.99997693e-02,   9.99995386e-02,\n",
       "          1.49999308e-01,   1.99999077e-01,   2.49998847e-01,\n",
       "          2.99998616e-01,   3.49998385e-01,   3.99998155e-01,\n",
       "          4.49997924e-01,   4.99997693e-01,   5.49997462e-01,\n",
       "          5.99997232e-01,   6.49997001e-01,   6.99996770e-01,\n",
       "          7.49996540e-01,   7.99996309e-01,   8.49996078e-01,\n",
       "          8.99995848e-01,   9.49995617e-01,   9.99995386e-01,\n",
       "          1.04999516e+00,   1.09999492e+00,   1.14999469e+00,\n",
       "          1.19999446e+00,   1.24999423e+00,   1.29999400e+00,\n",
       "          1.34999377e+00,   1.39999354e+00,   1.44999331e+00,\n",
       "          1.49999308e+00,   1.54999285e+00,   1.59999262e+00,\n",
       "          1.64999239e+00,   1.69999216e+00,   1.74999193e+00,\n",
       "          1.79999170e+00,   1.84999146e+00,   1.89999123e+00,\n",
       "          1.94999100e+00,   1.99999077e+00,   2.04999054e+00,\n",
       "          2.09999031e+00,   2.14999008e+00,   2.19998985e+00,\n",
       "          2.24998962e+00,   2.29998939e+00,   2.34998916e+00,\n",
       "          2.39998893e+00,   2.44998870e+00,   2.49998847e+00,\n",
       "          2.54998824e+00,   2.59998800e+00,   2.64998777e+00,\n",
       "          2.69998754e+00,   2.74998731e+00,   2.79998708e+00,\n",
       "          2.84998685e+00,   2.89998662e+00,   2.94998639e+00,\n",
       "          2.99998616e+00,   3.04998593e+00,   3.09998570e+00,\n",
       "          3.14998547e+00,   3.19998524e+00,   3.24998501e+00,\n",
       "          3.29998477e+00,   3.34998454e+00,   3.39998431e+00,\n",
       "          3.44998408e+00,   3.49998385e+00,   3.54998362e+00,\n",
       "          3.59998339e+00,   3.64998316e+00,   3.69998293e+00,\n",
       "          3.74998270e+00,   3.79998247e+00,   3.84998224e+00,\n",
       "          3.89998201e+00,   3.94998178e+00,   3.99998155e+00,\n",
       "          4.04998131e+00,   4.09998108e+00,   4.14998085e+00,\n",
       "          4.19998062e+00,   4.24998039e+00,   4.29998016e+00,\n",
       "          4.34997993e+00,   4.39997970e+00,   4.44997947e+00,\n",
       "          4.49997924e+00,   4.54997901e+00,   4.59997878e+00,\n",
       "          4.64997855e+00,   4.69997832e+00,   4.74997808e+00,\n",
       "          4.79997785e+00,   4.84997762e+00,   4.89997739e+00,\n",
       "          4.94997716e+00,   4.99997693e+00]),\n",
       " <a list of 100 Patch objects>)"
      ]
     },
     "execution_count": 2,
     "metadata": {
      "tags": []
     },
     "output_type": "execute_result"
    },
    {
     "data": {
      "image/png": "[encoded data removed]",
      "text/plain": [
       "<Figure size 432x288 with 1 Axes>"
      ]
     },
     "metadata": {
      "tags": []
     },
     "output_type": "display_data"
    }
   ],
   "source": [
    "import matplotlib.pyplot as plt\n",
    "%matplotlib inline\n",
    "\n",
    "plt.hist(target[target < 5], 100)"
   ]
  },
  {
   "cell_type": "code",
   "execution_count": 0,
   "metadata": {
    "colab": {
     "autoexec": {
      "startup": false,
      "wait_interval": 0
     }
    },
    "colab_type": "code",
    "collapsed": true,
    "id": "KIP88MP3_YEM"
   },
   "outputs": [],
   "source": [
    "Y[Y == 0].shape[0]/len(Y)"
   ]
  },
  {
   "cell_type": "code",
   "execution_count": 0,
   "metadata": {
    "colab": {
     "autoexec": {
      "startup": false,
      "wait_interval": 0
     }
    },
    "colab_type": "code",
    "collapsed": false,
    "id": "5Ouf7PLn_YEO",
    "outputId": "57488c48-efcd-4609-96fd-2a220bae20ab"
   },
   "outputs": [
    {
     "name": "stdout",
     "output_type": "stream",
     "text": [
      "(150000, 10)\n"
     ]
    },
    {
     "name": "stderr",
     "output_type": "stream",
     "text": [
      "/Users/alng/anaconda/envs/py36/lib/python3.6/site-packages/ipykernel_launcher.py:7: DataConversionWarning: A column-vector y was passed when a 1d array was expected. Please change the shape of y to (n_samples, ), for example using ravel().\n",
      "  import sys\n"
     ]
    },
    {
     "name": "stdout",
     "output_type": "stream",
     "text": [
      "             precision    recall  f1-score   support\n",
      "\n",
      "          0       0.95      0.72      0.82    142312\n",
      "          1       0.05      0.28      0.09      7688\n",
      "\n",
      "avg / total       0.90      0.70      0.78    150000\n",
      "\n",
      "0.701613333333\n"
     ]
    }
   ],
   "source": [
    "from sklearn.model_selection import train_test_split\n",
    "from sklearn.neighbors import KNeighborsClassifier\n",
    "from sklearn.metrics import classification_report, accuracy_score\n",
    "X_train, X_test, y_train, y_test = train_test_split(X[:300000], Y[:300000], test_size=0.5)\n",
    "print (X_train.shape)\n",
    "knn = KNeighborsClassifier(n_neighbors=15, weights='distance')\n",
    "knn.fit(X_train, y_train) \n",
    "predictions = knn.predict(X_test)\n",
    "print(classification_report(predictions, y_test))\n",
    "print(accuracy_score(predictions, y_test))"
   ]
  },
  {
   "cell_type": "code",
   "execution_count": 0,
   "metadata": {
    "colab": {
     "autoexec": {
      "startup": false,
      "wait_interval": 0
     }
    },
    "colab_type": "code",
    "collapsed": true,
    "id": "ic7ZYGRO_YER"
   },
   "outputs": [],
   "source": [
    "from sklearn.linear_model import LogisticRegression\n",
    "X_train, X_test, y_train, y_test = train_test_split(X[:1300000], Y[:1300000], test_size=0.5)\n",
    "print (X_train.shape)\n",
    "lr = LogisticRegression(solver='sag')\n",
    "lr.fit(X_train, y_train) \n",
    "predictions = lr.predict(X_test)\n",
    "print(classification_report(predictions, y_test))\n",
    "print(accuracy_score(predictions, y_test))"
   ]
  },
  {
   "cell_type": "code",
   "execution_count": 0,
   "metadata": {
    "colab": {
     "autoexec": {
      "startup": false,
      "wait_interval": 0
     }
    },
    "colab_type": "code",
    "collapsed": false,
    "id": "3bB0u0SJ_YET",
    "outputId": "62346e03-1f8f-4550-faa5-ddf4cc1cb308"
   },
   "outputs": [
    {
     "name": "stdout",
     "output_type": "stream",
     "text": [
      "(150000, 10)\n"
     ]
    },
    {
     "name": "stderr",
     "output_type": "stream",
     "text": [
      "/Users/alng/anaconda/envs/py36/lib/python3.6/site-packages/sklearn/utils/validation.py:578: DataConversionWarning: A column-vector y was passed when a 1d array was expected. Please change the shape of y to (n_samples, ), for example using ravel().\n",
      "  y = column_or_1d(y, warn=True)\n"
     ]
    },
    {
     "name": "stdout",
     "output_type": "stream",
     "text": [
      "             precision    recall  f1-score   support\n",
      "\n",
      "          0       1.00      0.72      0.84    150000\n",
      "          1       0.00      0.00      0.00         0\n",
      "\n",
      "avg / total       1.00      0.72      0.84    150000\n",
      "\n",
      "0.72348\n"
     ]
    },
    {
     "name": "stderr",
     "output_type": "stream",
     "text": [
      "/Users/alng/anaconda/envs/py36/lib/python3.6/site-packages/sklearn/metrics/classification.py:1137: UndefinedMetricWarning: Recall and F-score are ill-defined and being set to 0.0 in labels with no true samples.\n",
      "  'recall', 'true', average, warn_for)\n"
     ]
    }
   ],
   "source": [
    "from sklearn import svm\n",
    "sv = svm.SVC(kernel='linear', C = 1.0)\n",
    "X_train, X_test, y_train, y_test = train_test_split(X[:300000], Y[:300000], test_size=0.5)\n",
    "print (X_train.shape)\n",
    "sv.fit(X_train, y_train) \n",
    "predictions = sv.predict(X_test)\n",
    "print(classification_report(predictions, y_test))\n",
    "print(accuracy_score(predictions, y_test))"
   ]
  },
  {
   "cell_type": "code",
   "execution_count": 0,
   "metadata": {
    "colab": {
     "autoexec": {
      "startup": false,
      "wait_interval": 0
     }
    },
    "colab_type": "code",
    "collapsed": false,
    "id": "DUVc8K-__YEX",
    "outputId": "4e96a72e-741f-4266-ac15-01e995002ff5"
   },
   "outputs": [
    {
     "name": "stdout",
     "output_type": "stream",
     "text": [
      "(500000, 10)\n"
     ]
    },
    {
     "name": "stderr",
     "output_type": "stream",
     "text": [
      "/Users/alng/anaconda/envs/py36/lib/python3.6/site-packages/ipykernel_launcher.py:5: DataConversionWarning: A column-vector y was passed when a 1d array was expected. Please change the shape of y to (n_samples,), for example using ravel().\n",
      "  \"\"\"\n"
     ]
    }
   ],
   "source": [
    "from sklearn.ensemble import RandomForestClassifier\n",
    "rf = RandomForestClassifier(n_estimators=1000)\n",
    "X_train, X_test, y_train, y_test = train_test_split(X[:1000000], Y[:1000000], test_size=0.5)\n",
    "print (X_train.shape)\n",
    "rf.fit(X_train, y_train) \n",
    "predictions = rf.predict(X_test)\n",
    "print(rf.feature_importances_)\n",
    "print(classification_report(predictions, y_test))\n",
    "print(accuracy_score(predictions, y_test))"
   ]
  },
  {
   "cell_type": "code",
   "execution_count": 0,
   "metadata": {
    "colab": {
     "autoexec": {
      "startup": false,
      "wait_interval": 0
     }
    },
    "colab_type": "code",
    "collapsed": true,
    "id": "gApBdvfh_YEb"
   },
   "outputs": [],
   "source": []
  }
 ],
 "metadata": {
  "colab": {
   "default_view": {},
   "name": "Explore_Omit.ipynb",
   "provenance": [],
   "version": "0.3.2",
   "views": {}
  },
  "kernelspec": {
   "display_name": "Python 3",
   "language": "python",
   "name": "python3"
  },
  "language_info": {
   "codemirror_mode": {
    "name": "ipython",
    "version": 3
   },
   "file_extension": ".py",
   "mimetype": "text/x-python",
   "name": "python",
   "nbconvert_exporter": "python",
   "pygments_lexer": "ipython3",
   "version": "3.6.5"
  }
 },
 "nbformat": 4,
 "nbformat_minor": 0
}
