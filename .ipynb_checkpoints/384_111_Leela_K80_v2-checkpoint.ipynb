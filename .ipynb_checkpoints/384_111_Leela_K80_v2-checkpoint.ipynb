{
 "cells": [
  {
   "cell_type": "markdown",
   "metadata": {
    "colab_type": "text",
    "id": "tijKn7s4SYs8"
   },
   "source": [
    "This notebook shows how to run a **Leela Chess Zero client on Google Colab's NVIDIA Tesla K80 GPU**. Thanks to [djinnome from GitHub who figured it out.](https://github.com/glinscott/leela-chess/issues/284).\n",
    "\n",
    "Updated to work around problems with NVIDIA driver update: forces use of version 384.111.\n",
    "\n",
    "Run each cell in order, waiting for the previous one to finish before running the next.\n",
    "\n",
    "The scripts and cell layout may be messy/redundant, but this should work.\n"
   ]
  },
  {
   "cell_type": "code",
   "execution_count": 0,
   "metadata": {
    "colab": {
     "autoexec": {
      "startup": false,
      "wait_interval": 0
     }
    },
    "colab_type": "code",
    "id": "IlI6tTF_yMBM"
   },
   "outputs": [],
   "source": [
    "!wget http://developer.download.nvidia.com/compute/cuda/repos/ubuntu1704/x86_64/cuda-repo-ubuntu1704_9.0.176-1_amd64.deb\n",
    "!apt-get install -y --fix-missing --no-install-recommends dirmngr\n",
    "!dpkg -i cuda-repo-ubuntu1704_9.0.176-1_amd64.deb\n",
    "!apt-key adv --fetch-keys https://developer.download.nvidia.com/compute/cuda/repos/ubuntu1704/x86_64/7fa2af80.pub\n",
    "!apt-get update\n",
    "!mkdir /usr/lib/nvidia\n",
    "!apt-get install -y --fix-missing --no-install-recommends linux-headers-generic nvidia-384=384.111-0ubuntu1 nvidia-opencl-dev nvidia-opencl-icd-384=384.111-0ubuntu1 opencl-headers\n",
    "!apt-get install -y --fix-missing --no-install-recommends clinfo cmake git libboost-all-dev libopenblas-dev zlib1g-dev\n",
    "!clinfo"
   ]
  },
  {
   "cell_type": "markdown",
   "metadata": {
    "colab_type": "text",
    "id": "jl7wiL7JUIEQ"
   },
   "source": [
    "The cells up to this point may take ~10 minutes to complete. You will know when it's done by the proper clinfo output showing the K80; also, the progress indicator will have stopped spinning."
   ]
  },
  {
   "cell_type": "code",
   "execution_count": 0,
   "metadata": {
    "colab": {
     "autoexec": {
      "startup": false,
      "wait_interval": 0
     }
    },
    "colab_type": "code",
    "id": "vwe"
   },
   "outputs": [],
   "source": [
    "!rm -rf leela-chess\n",
    "!git clone https://github.com/glinscott/leela-chess.git\n",
    "!cd leela-chess && git submodule update --init --recursive\n",
    "!cd leela-chess && mkdir -p build"
   ]
  },
  {
   "cell_type": "code",
   "execution_count": 0,
   "metadata": {
    "colab": {
     "autoexec": {
      "startup": false,
      "wait_interval": 0
     }
    },
    "colab_type": "code",
    "id": "vwt"
   },
   "outputs": [],
   "source": [
    "!cd leela-chess/build && cmake .. -DCMAKE_BUILD_TYPE=Release\n",
    "!cd leela-chess/build && make -j $(nproc)"
   ]
  },
  {
   "cell_type": "code",
   "execution_count": 0,
   "metadata": {
    "colab": {
     "autoexec": {
      "startup": false,
      "wait_interval": 0
     }
    },
    "colab_type": "code",
    "id": "vza"
   },
   "outputs": [],
   "source": [
    "!cd leela-chess/build && curl -s -L https://github.com/glinscott/leela-chess/releases/latest | egrep -o '/glinscott/leela-chess/releases/download/v.*/client_linux' | head -n 1 | wget --base=https://github.com/ -i - -O client_linux && chmod +x client_linux"
   ]
  },
  {
   "cell_type": "code",
   "execution_count": 0,
   "metadata": {
    "colab": {
     "autoexec": {
      "startup": false,
      "wait_interval": 0
     }
    },
    "colab_type": "code",
    "id": "qwe"
   },
   "outputs": [],
   "source": [
    "!echo '0;XgemmBatched;192;16;192;16; -DKWG=32 -DKWI=8 -DMDIMA=8 -DMDIMC=8 -DMWG=32 -DNDIMB=8 -DNDIMC=8 -DNWG=16 -DSA=1 -DSB=1 -DSTRM=0 -DSTRN=0 -DVWM=4 -DVWN=2;OpenCL: NVIDIA Corporation Tesla K80 @ 823MHz' > leela-chess/build/leelaz_opencl_tuning"
   ]
  },
  {
   "cell_type": "code",
   "execution_count": 0,
   "metadata": {
    "colab": {
     "autoexec": {
      "startup": false,
      "wait_interval": 0
     }
    },
    "colab_type": "code",
    "id": "qtMuwcJHONZK"
   },
   "outputs": [],
   "source": [
    "# change user/password below if you want games credited to your account\n",
    "# (user/password in original notebook were both 'XXX')\n",
    "!cd leela-chess/build && ./client_linux --user 'Google Colab' --password googlecolab"
   ]
  },
  {
   "cell_type": "markdown",
   "metadata": {
    "colab_type": "text",
    "id": "7qZWYnVhREN_"
   },
   "source": [
    "If you get a **\"signal: aborted (core dumped)\" error** when running the client or **\"failed to assign a backend\" popup**, there are no GPUs available on Google Colab. **Try Runtime -> Restart Runtime** and running again, or kill the entire VM with **`!kill -9 -1`** and try again (VM may take 5 minutes to restart after being killed). As Google Colab has a limited number of free GPUs, **you may just have to try again another time**.\n",
    "\n"
   ]
  },
  {
   "cell_type": "markdown",
   "metadata": {
    "colab_type": "text",
    "id": "Js4c8ORLRXPa"
   },
   "source": [
    "Changelog:\n",
    "* 2018-05-11: no longer checkout from `next` - important training fix is now in `master`\n",
    "* 2018-05-10: build lczero from `next` branch to pick up training fix\n",
    "* 2018-06-02: use 384.111 NVIDIA driver to fix compatibility issues and update for 15 block NN"
   ]
  }
 ],
 "metadata": {
  "accelerator": "GPU",
  "colab": {
   "collapsed_sections": [],
   "default_view": {},
   "name": "384.111 Leela_K80_v2.ipynb",
   "provenance": [
    {
     "file_id": "14sODVon3P98dVGRRyiczkZLatbdCzaAP",
     "timestamp": 1527938622196
    },
    {
     "file_id": "1TBPdQY-KalEo3nZS6IKIMj_UlA8KSKtx",
     "timestamp": 1527891129969
    },
    {
     "file_id": "1wD0RpHFDAk76jLFybTKJjCABmvCzC8uo",
     "timestamp": 1527792914625
    },
    {
     "file_id": "1YhGz4MN-BcHjFTB3jxy9tOXEX1yi3gCl",
     "timestamp": 1523843081008
    }
   ],
   "version": "0.3.2",
   "views": {}
  },
  "kernelspec": {
   "display_name": "Python 3",
   "language": "python",
   "name": "python3"
  },
  "language_info": {
   "codemirror_mode": {
    "name": "ipython",
    "version": 3
   },
   "file_extension": ".py",
   "mimetype": "text/x-python",
   "name": "python",
   "nbconvert_exporter": "python",
   "pygments_lexer": "ipython3",
   "version": "3.6.4"
  }
 },
 "nbformat": 4,
 "nbformat_minor": 1
}
