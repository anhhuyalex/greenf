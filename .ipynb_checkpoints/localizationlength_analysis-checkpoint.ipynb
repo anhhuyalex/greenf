{
 "cells": [
  {
   "cell_type": "code",
   "execution_count": 1,
   "metadata": {
    "scrolled": true
   },
   "outputs": [
    {
     "name": "stdout",
     "output_type": "stream",
     "text": [
      "Saving to file greenfs-19-19-18.pickle\n",
      "Time doing lin alg 0.39791107177734375\n",
      "Time doing lin alg 0.31112003326416016\n",
      "Time doing lin alg 0.33838319778442383\n",
      "Time doing lin alg 0.35706019401550293\n",
      "Time doing lin alg 0.313140869140625\n"
     ]
    }
   ],
   "source": [
    "import os\n",
    "import pickle\n",
    "import test\n",
    "from collections import defaultdict\n",
    "import numpy as np\n",
    "import matplotlib.pyplot as plt\n",
    "\n",
    "\n",
    "N = 20\n",
    "\n",
    "def unpickle(import_w, N = N):\n",
    "    pickles = []\n",
    "    for path, subdirs, files in os.walk(\"greenf_ubc\"):\n",
    "        for name in files:\n",
    "            pickles.append(os.path.join(path, name))\n",
    "    pickles = [greenf.split(\"-\") for greenf in pickles]\n",
    "    pickles = [\"-\".join(greenf) for greenf in pickles if int(greenf[1][-1]) == import_w]\n",
    "    predicted_values = defaultdict(list)\n",
    "    true_values = defaultdict(list)\n",
    "    for p in pickles:\n",
    "        mapping, inv_mapping = test.index_triple_maps(N)\n",
    "        with open(p, 'rb') as f:\n",
    "            u = pickle._Unpickler(f)\n",
    "            u.encoding = 'latin1'\n",
    "            b = u.load()\n",
    "\n",
    "        for key, value in b[\"predicted_value\"].items():\n",
    "            predicted_values[key].append(value)\n",
    "        for key, value in b[\"true_value\"].items():\n",
    "            if key <= 10:\n",
    "                true_values[key].append(value[0])\n",
    "                \n",
    "    return predicted_values, true_values\n",
    "\n"
   ]
  },
  {
   "cell_type": "code",
   "execution_count": 2,
   "metadata": {},
   "outputs": [],
   "source": [
    "def localization_length(values_dict):\n",
    "    \"\"\"\n",
    "    values_dict: dictionary where\n",
    "        key = distance from boundary\n",
    "        value = array containing calculated value of Green's function\n",
    "    \"\"\"\n",
    "    means = {}\n",
    "    for key, values in values_dict.items():\n",
    "        values = np.hstack(values)\n",
    "        values = values[values != 0] # remove -inf values in calculation\n",
    "        values = np.absolute(values)\n",
    "        values = np.log(values)\n",
    "        means[key] = np.mean(values)\n",
    "    return means\n",
    "\n"
   ]
  },
  {
   "cell_type": "code",
   "execution_count": null,
   "metadata": {},
   "outputs": [],
   "source": [
    "for import_w in range(1):\n",
    "    import_w = 1\n",
    "    predicted_values, true_values = unpickle(import_w)\n",
    "    pred = (localization_length(predicted_values))\n",
    "    true = (localization_length(true_values))\n",
    "    pred_k, pred_v = (zip(*pred.items()))\n",
    "    true_k, true_v = (zip(*true.items()))\n",
    "    slope, _ = np.polyfit(true_k, true_v, 1)\n",
    "    print(\"Slope is\", slope)\n",
    "    print(\"Localization length is\", 1/slope)\n",
    "    plt.plot(pred_k, pred_v, label = \"Predicted\")\n",
    "    plt.plot(true_k, true_v, label = \"True\")\n",
    "    plt.text(5, 1, \"Slope is ~{:.5f}\".format(float(slope)))\n",
    "    plt.title(\"True vs. Predicted Values of <ln |G|>\")\n",
    "    plt.show()"
   ]
  },
  {
   "cell_type": "code",
   "execution_count": null,
   "metadata": {},
   "outputs": [],
   "source": []
  },
  {
   "cell_type": "code",
   "execution_count": null,
   "metadata": {},
   "outputs": [],
   "source": []
  },
  {
   "cell_type": "code",
   "execution_count": null,
   "metadata": {},
   "outputs": [],
   "source": [
    "k, v = (zip(*pred.items()))\n",
    "k1, v1 = (zip(*true.items()))\n",
    "import matplotlib.pyplot as plt\n",
    "plt.plot(k, v)\n",
    "plt.plot(k1, v1)"
   ]
  },
  {
   "cell_type": "code",
   "execution_count": null,
   "metadata": {},
   "outputs": [],
   "source": []
  }
 ],
 "metadata": {
  "kernelspec": {
   "display_name": "greenf",
   "language": "python",
   "name": "greenf"
  },
  "language_info": {
   "codemirror_mode": {
    "name": "ipython",
    "version": 3
   },
   "file_extension": ".py",
   "mimetype": "text/x-python",
   "name": "python",
   "nbconvert_exporter": "python",
   "pygments_lexer": "ipython3",
   "version": "3.7.2"
  }
 },
 "nbformat": 4,
 "nbformat_minor": 2
}
