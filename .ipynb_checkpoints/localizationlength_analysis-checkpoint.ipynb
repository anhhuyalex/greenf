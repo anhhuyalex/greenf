{
 "cells": [
  {
   "cell_type": "code",
   "execution_count": 42,
   "metadata": {
    "scrolled": false
   },
   "outputs": [],
   "source": [
    "import os\n",
    "import pickle\n",
    "import test\n",
    "from collections import defaultdict\n",
    "\n",
    "import_w = 1\n",
    "N = 20\n",
    "\n",
    "pickles = []\n",
    "for path, subdirs, files in os.walk(\"greenf\"):\n",
    "    for name in files:\n",
    "        pickles.append(os.path.join(path, name))\n",
    "pickles = [greenf.split(\"-\") for greenf in pickles]\n",
    "pickles = [\"-\".join(greenf) for greenf in pickles if int(greenf[1][-1]) == import_w]\n",
    "predicted_values = defaultdict(list)\n",
    "true_values = defaultdict(list)\n",
    "for p in pickles:\n",
    "    mapping, inv_mapping = test.index_triple_maps(N)\n",
    "    with open(p, 'rb') as handle:\n",
    "        b = pickle.load(handle)\n",
    "    for key, value in b[\"predicted_value\"].items():\n",
    "        predicted_values[key].append(value)\n",
    "    for key, value in b[\"true_value\"].items():\n",
    "        if key <= 11:\n",
    "            true_values[key].append(value)\n",
    "    break"
   ]
  },
  {
   "cell_type": "code",
   "execution_count": 16,
   "metadata": {},
   "outputs": [
    {
     "data": {
      "text/plain": [
       "[['greenf/greenfs', 'w=1', '2019', '07', '03T06:28:28.590158.pickle'],\n",
       " ['greenf/greenfs', 'w=1', '2019', '07', '03T00:31:04.593190.pickle'],\n",
       " ['greenf/greenfs', 'w=4', '2019', '07', '03T08:23:48.327847.pickle'],\n",
       " ['greenf/greenfs', 'w=2', '2019', '07', '02T10:53:54.996597.pickle'],\n",
       " ['greenf/greenfs', 'w=3', '2019', '07', '02T11:40:19.467901.pickle'],\n",
       " ['greenf/greenfs', 'w=4', '2019', '07', '03T12:41:09.830402.pickle'],\n",
       " ['greenf/greenfs', 'w=4', '2019', '07', '02T14:27:24.382459.pickle'],\n",
       " ['greenf/greenfs', 'w=2', '2019', '07', '02T19:25:52.285436.pickle'],\n",
       " ['greenf/greenfs', 'w=2', '2019', '07', '03T11:02:19.259099.pickle'],\n",
       " ['greenf/greenfs', 'w=2', '2019', '07', '03T15:38:27.665725.pickle'],\n",
       " ['greenf/greenfs', 'w=3', '2019', '07', '03T16:38:55.501289.pickle'],\n",
       " ['greenf/greenfs', 'w=3', '2019', '07', '03T12:10:11.353411.pickle'],\n",
       " ['greenf/greenfs', 'w=2', '2019', '07', '02T21:38:26.773058.pickle'],\n",
       " ['greenf/greenfs', 'w=2', '2019', '07', '03T17:46:58.044136.pickle'],\n",
       " ['greenf/greenfs', 'w=1', '2019', '07', '02T08:23:23.430621.pickle'],\n",
       " ['greenf/greenfs', 'w=4', '2019', '07', '02T22:44:27.971684.pickle'],\n",
       " ['greenf/greenfs', 'w=1', '2019', '07', '02T14:25:32.350277.pickle'],\n",
       " ['greenf/greenfs', 'w=3', '2019', '07', '03T06:06:45.133687.pickle'],\n",
       " ['greenf/greenfs', 'w=4', '2019', '07', '03T06:52:54.886953.pickle'],\n",
       " ['greenf/greenfs', 'w=4', '2019', '07', '03T02:59:07.291714.pickle'],\n",
       " ['greenf/greenfs', 'w=2', '2019', '07', '03T08:03:55.015213.pickle'],\n",
       " ['greenf/greenfs', 'w=3', '2019', '07', '02T23:50:07.835712.pickle'],\n",
       " ['greenf/greenfs', 'w=4', '2019', '07', '03T10:52:35.093598.pickle'],\n",
       " ['greenf/greenfs', 'w=1', '2019', '07', '03T02:07:21.171758.pickle'],\n",
       " ['greenf/greenfs', 'w=1', '2019', '07', '03T15:18:38.225497.pickle'],\n",
       " ['greenf/greenfs', 'w=2', '2019', '07', '03T03:18:11.947617.pickle'],\n",
       " ['greenf/greenfs', 'w=1', '2019', '07', '02T19:01:03.924547.pickle'],\n",
       " ['greenf/greenfs', 'w=4', '2019', '07', '02T19:20:29.520251.pickle'],\n",
       " ['greenf/greenfs', 'w=4', '2019', '07', '03T04:26:55.414636.pickle'],\n",
       " ['greenf/greenfs', 'w=3', '2019', '07', '03T07:36:57.401600.pickle'],\n",
       " ['greenf/greenfs', 'w=1', '2019', '07', '03T04:03:38.561202.pickle'],\n",
       " ['greenf/greenfs', 'w=1', '2019', '07', '02T20:38:19.989513.pickle'],\n",
       " ['greenf/greenfs', 'w=2', '2019', '07', '02T12:59:12.466210.pickle'],\n",
       " ['greenf/greenfs', 'w=2', '2019', '07', '02T08:16:25.028173.pickle'],\n",
       " ['greenf/greenfs', 'w=3', '2019', '07', '03T09:45:34.879875.pickle'],\n",
       " ['greenf/greenfs', 'w=1', '2019', '07', '02T11:02:55.019538.pickle'],\n",
       " ['greenf/greenfs', 'w=2', '2019', '07', '03T05:48:36.752236.pickle'],\n",
       " ['greenf/greenfs', 'w=1', '2019', '07', '03T13:17:40.501167.pickle'],\n",
       " ['greenf/greenfs', 'w=4', '2019', '07', '03T00:01:31.197377.pickle'],\n",
       " ['greenf/greenfs', 'w=1', '2019', '07', '03T17:21:53.573736.pickle'],\n",
       " ['greenf/greenfs', 'w=2', '2019', '07', '02T15:44:50.250034.pickle'],\n",
       " ['greenf/greenfs', 'w=4', '2019', '07', '03T05:35:08.219405.pickle'],\n",
       " ['greenf/greenfs', 'w=1', '2019', '07', '03T08:34:50.070021.pickle'],\n",
       " ['greenf/greenfs', 'w=4', '2019', '07', '02T18:02:48.071446.pickle'],\n",
       " ['greenf/greenfs', 'w=4', '2019', '07', '02T21:02:34.113228.pickle'],\n",
       " ['greenf/greenfs', 'w=3', '2019', '07', '03T03:00:03.254812.pickle'],\n",
       " ['greenf/greenfs', 'w=1', '2019', '07', '02T16:20:01.746775.pickle'],\n",
       " ['greenf/greenfs', 'w=4', '2019', '07', '02T08:41:06.267238.pickle'],\n",
       " ['greenf/greenfs', 'w=3', '2019', '07', '02T08:02:49.925681.pickle'],\n",
       " ['greenf/greenfs', 'w=2', '2019', '07', '03T01:31:31.827969.pickle'],\n",
       " ['greenf/greenfs', 'w=4', '2019', '07', '03T15:42:40.598052.pickle'],\n",
       " ['greenf/greenfs', 'w=4', '2019', '07', '02T10:51:56.220305.pickle'],\n",
       " ['greenf/greenfs', 'w=4', '2019', '07', '02T12:36:58.517123.pickle'],\n",
       " ['greenf/greenfs', 'w=3', '2019', '07', '03T01:27:07.632515.pickle'],\n",
       " ['greenf/greenfs', 'w=3', '2019', '07', '02T13:40:28.787916.pickle'],\n",
       " ['greenf/greenfs', 'w=2', '2019', '07', '02T17:40:29.563471.pickle'],\n",
       " ['greenf/greenfs', 'w=3', '2019', '07', '02T15:12:58.430475.pickle'],\n",
       " ['greenf/greenfs', 'w=1', '2019', '07', '02T22:39:32.860600.pickle'],\n",
       " ['greenf/greenfs', 'w=3', '2019', '07', '02T20:13:05.320032.pickle'],\n",
       " ['greenf/greenfs', 'w=3', '2019', '07', '02T22:09:49.068253.pickle'],\n",
       " ['greenf/greenfs', 'w=3', '2019', '07', '02T18:46:21.946458.pickle'],\n",
       " ['greenf/greenfs', 'w=4', '2019', '07', '03T01:33:31.101298.pickle'],\n",
       " ['greenf/greenfs', 'w=4', '2019', '07', '03T17:19:04.661714.pickle'],\n",
       " ['greenf/greenfs', 'w=2', '2019', '07', '03T13:13:12.359460.pickle'],\n",
       " ['greenf/greenfs', 'w=3', '2019', '07', '02T16:58:53.137262.pickle'],\n",
       " ['greenf/greenfs', 'w=1', '2019', '07', '03T11:15:39.386756.pickle'],\n",
       " ['greenf/greenfs', 'w=3', '2019', '07', '03T04:34:31.058957.pickle'],\n",
       " ['greenf/greenfs', 'w=2', '2019', '07', '02T23:20:50.216655.pickle'],\n",
       " ['greenf/greenfs', 'w=3', '2019', '07', '03T14:55:46.472868.pickle'],\n",
       " ['greenf/greenfs', 'w=4', '2019', '07', '03T14:11:53.427089.pickle']]"
      ]
     },
     "execution_count": 16,
     "metadata": {},
     "output_type": "execute_result"
    }
   ],
   "source": [
    "pickles = [greenf.split(\"-\") for greenf in pickles]\n",
    "(pickles)"
   ]
  },
  {
   "cell_type": "code",
   "execution_count": null,
   "metadata": {},
   "outputs": [],
   "source": []
  }
 ],
 "metadata": {
  "kernelspec": {
   "display_name": "greenf",
   "language": "python",
   "name": "greenf"
  },
  "language_info": {
   "codemirror_mode": {
    "name": "ipython",
    "version": 3
   },
   "file_extension": ".py",
   "mimetype": "text/x-python",
   "name": "python",
   "nbconvert_exporter": "python",
   "pygments_lexer": "ipython3",
   "version": "3.7.2"
  }
 },
 "nbformat": 4,
 "nbformat_minor": 2
}
