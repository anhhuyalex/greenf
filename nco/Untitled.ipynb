{
 "cells": [
  {
   "cell_type": "code",
   "execution_count": 2,
   "metadata": {
    "scrolled": false
   },
   "outputs": [],
   "source": [
    "import torch\n",
    "import torch.nn as nn\n",
    "import torch.autograd as autograd\n",
    "from torch.autograd import Variable\n",
    "import torch.nn.functional as F\n",
    "import math\n",
    "import numpy as np"
   ]
  },
  {
   "cell_type": "code",
   "execution_count": 3,
   "metadata": {},
   "outputs": [
    {
     "name": "stdout",
     "output_type": "stream",
     "text": [
      "8000\n"
     ]
    },
    {
     "data": {
      "text/plain": [
       "array([[1.+0.j, 1.+0.j, 0.+0.j, ..., 0.+0.j, 0.+0.j, 0.+0.j],\n",
       "       [1.+0.j, 1.+0.j, 1.+0.j, ..., 0.+0.j, 0.+0.j, 0.+0.j],\n",
       "       [0.+0.j, 1.+0.j, 1.+0.j, ..., 0.+0.j, 0.+0.j, 0.+0.j],\n",
       "       ...,\n",
       "       [0.+0.j, 0.+0.j, 0.+0.j, ..., 1.+0.j, 1.+0.j, 0.+0.j],\n",
       "       [0.+0.j, 0.+0.j, 0.+0.j, ..., 1.+0.j, 1.+0.j, 1.+0.j],\n",
       "       [0.+0.j, 0.+0.j, 0.+0.j, ..., 0.+0.j, 1.+0.j, 1.+0.j]])"
      ]
     },
     "execution_count": 3,
     "metadata": {},
     "output_type": "execute_result"
    }
   ],
   "source": [
    "def form_hamiltonian(sites=20, e_n = 1, t_n = 1):\n",
    "    \n",
    "    def gen_triples(N):\n",
    "        i, j, k = (0, 0, 0)\n",
    "        coords = []\n",
    "        for i in range(N):\n",
    "            for j in range(N):\n",
    "                for k in range(N):\n",
    "                    coords.append((i,j,k))\n",
    "\n",
    "        return coords\n",
    "    \n",
    "    coords = gen_triples(sites)\n",
    "    mapping = {i: coords[i] for i in range(len(coords))}\n",
    "    inv_mapping = {coords[i]: i for i in range(len(coords))}\n",
    "    H = np.zeros((sites ** 3, sites ** 3), dtype = complex)\n",
    "    print(len(coords))\n",
    "    for i in range(sites ** 3):\n",
    "        x, y, z = mapping[i]\n",
    "        H[i, i] = e_n\n",
    "        if (z + 1 < sites):\n",
    "            H[i, i+1] = t_n\n",
    "        if y + 1 < sites:\n",
    "            H[i, i+sites] = t_n\n",
    "        if x + 1 < sites:\n",
    "            H[i, i+sites**2] = t_n\n",
    "        if z > 0:\n",
    "            H[i, i-1] = t_n\n",
    "        if y > 0:\n",
    "            H[i, i-sites] = t_n\n",
    "        if x > 0:\n",
    "            H[i, i-sites**2] = t_n\n",
    "            \n",
    "    return gen_triples, H\n",
    "\n",
    "gen_triples, H = form_hamiltonian()\n",
    "H"
   ]
  },
  {
   "cell_type": "code",
   "execution_count": 10,
   "metadata": {},
   "outputs": [
    {
     "data": {
      "text/plain": [
       "torch.Size([1, 2, 8000, 8000])"
      ]
     },
     "execution_count": 10,
     "metadata": {},
     "output_type": "execute_result"
    }
   ],
   "source": [
    "H = torch.Tensor(np.real(H))\n",
    "z = torch.zeros_like(H).fill_(3)\n",
    "inp = torch.cat((H.unsqueeze(0), z.unsqueeze(0)), dim = 0)\n",
    "inp = inp.unsqueeze(0)\n",
    "inp.shape"
   ]
  },
  {
   "cell_type": "code",
   "execution_count": 11,
   "metadata": {},
   "outputs": [
    {
     "data": {
      "text/plain": [
       "tensor([[[[1., 1., 0.,  ..., 0., 0., 0.],\n",
       "          [1., 1., 1.,  ..., 0., 0., 0.],\n",
       "          [0., 1., 1.,  ..., 0., 0., 0.],\n",
       "          ...,\n",
       "          [0., 0., 0.,  ..., 1., 1., 0.],\n",
       "          [0., 0., 0.,  ..., 1., 1., 1.],\n",
       "          [0., 0., 0.,  ..., 0., 1., 1.]],\n",
       "\n",
       "         [[3., 3., 3.,  ..., 3., 3., 3.],\n",
       "          [3., 3., 3.,  ..., 3., 3., 3.],\n",
       "          [3., 3., 3.,  ..., 3., 3., 3.],\n",
       "          ...,\n",
       "          [3., 3., 3.,  ..., 3., 3., 3.],\n",
       "          [3., 3., 3.,  ..., 3., 3., 3.],\n",
       "          [3., 3., 3.,  ..., 3., 3., 3.]]]])"
      ]
     },
     "execution_count": 11,
     "metadata": {},
     "output_type": "execute_result"
    }
   ],
   "source": [
    "inp"
   ]
  },
  {
   "cell_type": "code",
   "execution_count": 12,
   "metadata": {},
   "outputs": [],
   "source": [
    "class CNNEncoder(nn.Module):\n",
    "    \"\"\"Maps a Hamiltonian and an energy input a hidden vector\"\"\"\n",
    "    def __init__(self):\n",
    "        super(CNNEncoder, self).__init__()\n",
    "#         self.layer1 = nn.Sequential(\n",
    "#             nn.Conv2d(2, 16, kernel_size=5, stride=1, padding=2),\n",
    "#             nn.BatchNorm2d(16),\n",
    "#             nn.ReLU(),\n",
    "#             nn.MaxPool2d(kernel_size=2, stride=2))\n",
    "        self.conv1 = nn.Conv2d(2, 16, kernel_size=5, stride=1, padding=2)\n",
    "        \n",
    "#         self.hidden_dim = hidden_dim\n",
    "#         self.lstm = nn.LSTM(input_dim, hidden_dim)\n",
    "#         self.use_cuda = use_cuda\n",
    "#         self.enc_init_state = self.init_hidden(hidden_dim)\n",
    "\n",
    "    def forward(self, inputs):\n",
    "        out = self.conv1(inputs)\n",
    "        return out\n",
    "    \n",
    "v = CNNEncoder()\n",
    "\n",
    "        \n",
    "        \n",
    "        \n",
    "    \n",
    "    \n",
    "    \n",
    "    "
   ]
  },
  {
   "cell_type": "code",
   "execution_count": 14,
   "metadata": {},
   "outputs": [
    {
     "data": {
      "text/plain": [
       "torch.Size([1, 16, 8000, 8000])"
      ]
     },
     "execution_count": 14,
     "metadata": {},
     "output_type": "execute_result"
    }
   ],
   "source": [
    "v(inp).shape"
   ]
  },
  {
   "cell_type": "code",
   "execution_count": null,
   "metadata": {},
   "outputs": [],
   "source": [
    "torch.Tensor([H, z])"
   ]
  },
  {
   "cell_type": "code",
   "execution_count": null,
   "metadata": {},
   "outputs": [],
   "source": [
    "torch.cat((H, z), dim = 2).shape"
   ]
  },
  {
   "cell_type": "code",
   "execution_count": null,
   "metadata": {},
   "outputs": [],
   "source": [
    "data = array(data)\n",
    "# decode sequence\n",
    "result = beam_search_decoder(data, 3)\n",
    "# print result\n",
    "for seq in result:\n",
    "\tprint(seq)"
   ]
  },
  {
   "cell_type": "code",
   "execution_count": 6,
   "metadata": {},
   "outputs": [
    {
     "data": {
      "image/png": "[encoded data removed]",
      "text/plain": [
       "<Figure size 432x288 with 1 Axes>"
      ]
     },
     "metadata": {
      "needs_background": "light"
     },
     "output_type": "display_data"
    }
   ],
   "source": [
    "from scipy.stats import norm\n",
    "import numpy as np\n",
    "def f(x):\n",
    "    return norm.pdf(x, 10, 10**0.5)\n",
    "\n",
    "x = np.linspace(-10,30,500)\n",
    "import matplotlib.pyplot as plt\n",
    "plt.plot(x,f(x))\n",
    "plt.show()"
   ]
  },
  {
   "cell_type": "code",
   "execution_count": null,
   "metadata": {},
   "outputs": [],
   "source": []
  }
 ],
 "metadata": {
  "kernelspec": {
   "display_name": "Python 3",
   "language": "python",
   "name": "python3"
  },
  "language_info": {
   "codemirror_mode": {
    "name": "ipython",
    "version": 3
   },
   "file_extension": ".py",
   "mimetype": "text/x-python",
   "name": "python",
   "nbconvert_exporter": "python",
   "pygments_lexer": "ipython3",
   "version": "3.7.0"
  }
 },
 "nbformat": 4,
 "nbformat_minor": 2
}
